{
 "cells": [
  {
   "cell_type": "code",
   "execution_count": 1,
   "id": "2168dd67",
   "metadata": {},
   "outputs": [],
   "source": [
    "# importy bilbiotek\n",
    "import numpy as np\n",
    "import pandas as pd\n",
    "import matplotlib\n",
    "import matplotlib.pyplot as plt\n",
    "import seaborn as sns"
   ]
  },
  {
   "cell_type": "code",
   "execution_count": 2,
   "id": "494a08a9",
   "metadata": {},
   "outputs": [],
   "source": [
    "# wczytywanie danych z konkretnego miejsca na dysku\n",
    "dane =  pd.read_csv('C:/Users/vdi-terminal/Downloads/breast-cancer-wisconsin.data')"
   ]
  },
  {
   "cell_type": "code",
   "execution_count": 3,
   "id": "07c9dc72",
   "metadata": {},
   "outputs": [
    {
     "name": "stdout",
     "output_type": "stream",
     "text": [
      "     1000025  5   1  1.1  1.2  2 1.3   3  1.4  1.5  2.1\n",
      "0    1002945  5   4    4    5  7  10   3    2    1    2\n",
      "1    1015425  3   1    1    1  2   2   3    1    1    2\n",
      "2    1016277  6   8    8    1  3   4   3    7    1    2\n",
      "3    1017023  4   1    1    3  2   1   3    1    1    2\n",
      "4    1017122  8  10   10    8  7  10   9    7    1    4\n",
      "..       ... ..  ..  ...  ... ..  ..  ..  ...  ...  ...\n",
      "693   776715  3   1    1    1  3   2   1    1    1    2\n",
      "694   841769  2   1    1    1  2   1   1    1    1    2\n",
      "695   888820  5  10   10    3  7   3   8   10    2    4\n",
      "696   897471  4   8    6    4  3   4  10    6    1    4\n",
      "697   897471  4   8    8    5  4   5  10    4    1    4\n",
      "\n",
      "[698 rows x 11 columns]\n"
     ]
    }
   ],
   "source": [
    "# podglad danych\n",
    "print(dane)"
   ]
  },
  {
   "cell_type": "code",
   "execution_count": 4,
   "id": "c77741c1",
   "metadata": {},
   "outputs": [],
   "source": [
    "# funkcje pomocniczne\n",
    "# sprawdza czy jest to pożądana klasa\n",
    "def classCheck( dana,  klasa):\n",
    "    if(dana == klasa):\n",
    "        return True\n",
    "    return False\n",
    "\n",
    "#sprawdza czy w danej tablicy brakuje danych\n",
    "def isAnyNull(tablica):\n",
    "    for zmienna in tablica:\n",
    "        if(zmienna==\"?\"):\n",
    "            return True\n",
    "    return False\n"
   ]
  },
  {
   "cell_type": "code",
   "execution_count": 5,
   "id": "1b710251",
   "metadata": {},
   "outputs": [
    {
     "name": "stdout",
     "output_type": "stream",
     "text": [
      "Klasy: benign(niegroźny), malignant(złośliwy)\n",
      "Liczba próbek w zbiorze: 698\n"
     ]
    }
   ],
   "source": [
    "# tworzymy opis kolumn dla wczytanych danych\n",
    "columny = ['Id','Clump thickness', 'uniformity of cell size','Uniformity of Cell Shape','Marginal Adhesion','Single Epithelial Cell Size','Bare Nuclei','Bland Chromatin','Normal Nucleoli','Mitoses','Class']\n",
    "print(\"Klasy: benign(niegroźny), malignant(złośliwy)\")\n",
    "dane.columns = columny\n",
    "print(\"Liczba próbek w zbiorze: \" + str(len(dane)))"
   ]
  },
  {
   "cell_type": "code",
   "execution_count": 6,
   "id": "ca072875",
   "metadata": {},
   "outputs": [
    {
     "name": "stdout",
     "output_type": "stream",
     "text": [
      "Ilosc Zlosliwych: 241\n",
      "Ilość Niegroźny: 457\n",
      "Łacznie: 698\n"
     ]
    }
   ],
   "source": [
    "#zliczenia klas\n",
    "iloscZlosliwych=0\n",
    "iloscNiegrozny=0\n",
    "# klasa 4 to oznaczenie złośliwych przypadków, klasa 2 to oznaczenie zdrowych przypadków\n",
    "for dana in dane['Class']:\n",
    "    if(classCheck(dana,4)):\n",
    "        iloscZlosliwych+=1\n",
    "    else:\n",
    "        iloscNiegrozny+=1\n",
    "\n",
    "print(\"Ilosc Zlosliwych: \"+str(iloscZlosliwych))\n",
    "print(\"Ilość Niegroźny: \" + str(iloscNiegrozny))\n",
    "print(\"Łacznie: \" + str(iloscNiegrozny+iloscZlosliwych))"
   ]
  },
  {
   "cell_type": "code",
   "execution_count": 7,
   "id": "1c64d8ef",
   "metadata": {},
   "outputs": [
    {
     "name": "stdout",
     "output_type": "stream",
     "text": [
      "Brakuje danych w kolumnie: Bare Nuclei\n"
     ]
    }
   ],
   "source": [
    "for label in columny:\n",
    "    if(isAnyNull(dane[label])):\n",
    "        print(\"Brakuje danych w kolumnie: \" + str(label))\n"
   ]
  },
  {
   "cell_type": "code",
   "execution_count": 8,
   "id": "c61d3995",
   "metadata": {},
   "outputs": [],
   "source": [
    "#Wybieramy 3 kolumny na ktorych przprowadzimy dalsze zadanie\n",
    "wybaneLabel = ['Clump thickness', 'uniformity of cell size','Uniformity of Cell Shape']"
   ]
  },
  {
   "cell_type": "code",
   "execution_count": 9,
   "id": "4c1c049d",
   "metadata": {
    "scrolled": true
   },
   "outputs": [
    {
     "name": "stdout",
     "output_type": "stream",
     "text": [
      "Dane dla Clump thickness\n",
      "średnia: 4.416905444126074\n",
      "Mediana: 4.0\n",
      "Maksymalna wartość wystepująca: 10\n",
      "Minimalna wartość wystepująca: 1\n",
      "Standardowe odchylenie: 2.8176733983653017\n",
      "Kwartyle: \n",
      "0.25    2\n",
      "0.75    6\n",
      "Name: Clump thickness, dtype: int64\n",
      "\n",
      "Dane dla uniformity of cell size\n",
      "średnia: 3.1375358166189113\n",
      "Mediana: 1.0\n",
      "Maksymalna wartość wystepująca: 10\n",
      "Minimalna wartość wystepująca: 1\n",
      "Standardowe odchylenie: 3.052575308453491\n",
      "Kwartyle: \n",
      "0.25    1\n",
      "0.75    5\n",
      "Name: uniformity of cell size, dtype: int64\n",
      "\n",
      "Dane dla Uniformity of Cell Shape\n",
      "średnia: 3.2106017191977076\n",
      "Mediana: 1.0\n",
      "Maksymalna wartość wystepująca: 10\n",
      "Minimalna wartość wystepująca: 1\n",
      "Standardowe odchylenie: 2.9728666675080633\n",
      "Kwartyle: \n",
      "0.25    1\n",
      "0.75    5\n",
      "Name: Uniformity of Cell Shape, dtype: int64\n",
      "\n"
     ]
    }
   ],
   "source": [
    "#analiza danych\n",
    "for z in wybaneLabel:\n",
    "    print(\"Dane dla \" + str(z))\n",
    "    #średnie\n",
    "    print(\"średnia: \" + str(dane[z].mean()))\n",
    "    #mediana\n",
    "    print(\"Mediana: \" + str(dane[z].median()))\n",
    "    #max\n",
    "    print(\"Maksymalna wartość wystepująca: \" + str(pd.DataFrame.max(dane[z])))\n",
    "    #min\n",
    "    print(\"Minimalna wartość wystepująca: \" + str(pd.DataFrame.min(dane[z])))\n",
    "    #Standardowe odchylenie\n",
    "    print(\"Standardowe odchylenie: \" + str(pd.DataFrame.std(dane[z])))\n",
    "    #kwartyle\n",
    "    print(\"Kwartyle: \")\n",
    "    print(str(dane[z].quantile([0.25, 0.75], interpolation='nearest')))\n",
    "    \n",
    "    print()\n",
    "    "
   ]
  },
  {
   "cell_type": "code",
   "execution_count": 10,
   "id": "f5c4b8d4",
   "metadata": {},
   "outputs": [
    {
     "name": "stdout",
     "output_type": "stream",
     "text": [
      "Histogramy\n"
     ]
    },
    {
     "data": {
      "image/png": "[encoded data removed]",
      "text/plain": [
       "<Figure size 432x288 with 1 Axes>"
      ]
     },
     "metadata": {
      "needs_background": "light"
     },
     "output_type": "display_data"
    },
    {
     "data": {
      "image/png": "[encoded data removed]",
      "text/plain": [
       "<Figure size 432x288 with 1 Axes>"
      ]
     },
     "metadata": {
      "needs_background": "light"
     },
     "output_type": "display_data"
    },
    {
     "data": {
      "image/png": "[encoded data removed]",
      "text/plain": [
       "<Figure size 432x288 with 1 Axes>"
      ]
     },
     "metadata": {
      "needs_background": "light"
     },
     "output_type": "display_data"
    }
   ],
   "source": [
    "print(\"Histogramy\")\n",
    "for z in wybaneLabel:\n",
    "    plt.figure()\n",
    "    plt.title(z)\n",
    "    plt.hist(dane[z])\n"
   ]
  },
  {
   "cell_type": "code",
   "execution_count": 11,
   "id": "c6769a2c",
   "metadata": {},
   "outputs": [
    {
     "name": "stdout",
     "output_type": "stream",
     "text": [
      "Pudelkowy\n"
     ]
    },
    {
     "data": {
      "image/png": "[encoded data removed]",
      "text/plain": [
       "<Figure size 432x288 with 1 Axes>"
      ]
     },
     "metadata": {
      "needs_background": "light"
     },
     "output_type": "display_data"
    },
    {
     "data": {
      "image/png": "[encoded data removed]",
      "text/plain": [
       "<Figure size 432x288 with 1 Axes>"
      ]
     },
     "metadata": {
      "needs_background": "light"
     },
     "output_type": "display_data"
    },
    {
     "data": {
      "image/png": "[encoded data removed]",
      "text/plain": [
       "<Figure size 432x288 with 1 Axes>"
      ]
     },
     "metadata": {
      "needs_background": "light"
     },
     "output_type": "display_data"
    }
   ],
   "source": [
    "print(\"Pudelkowy\")\n",
    "for z in wybaneLabel:\n",
    "    plt.figure()\n",
    "    plt.title(z)\n",
    "    plt.boxplot(dane[z])\n"
   ]
  },
  {
   "cell_type": "code",
   "execution_count": 12,
   "id": "47a0e19e",
   "metadata": {},
   "outputs": [
    {
     "name": "stdout",
     "output_type": "stream",
     "text": [
      "Korelacja Clump thickness i uniformity of cell size dla Niegorźnych\n"
     ]
    },
    {
     "data": {
      "text/plain": [
       "[<matplotlib.lines.Line2D at 0x1e8f93c9e50>]"
      ]
     },
     "execution_count": 12,
     "metadata": {},
     "output_type": "execute_result"
    },
    {
     "data": {
      "image/png": "[encoded data removed]",
      "text/plain": [
       "<Figure size 432x288 with 1 Axes>"
      ]
     },
     "metadata": {
      "needs_background": "light"
     },
     "output_type": "display_data"
    }
   ],
   "source": [
    "daneNiegrozne = dane[dane['Class'] == 2]\n",
    "daneZlosliwe = dane[dane['Class'] == 4]\n",
    "#print(daneZlosliwe)\n",
    "\n",
    "print(\"Korelacja \" +str(wybaneLabel[0])+ \" i \"+str(wybaneLabel[1]) + \" dla Niegorźnych\")\n",
    "plt.title(\"Korelacja Niegorźnych\")\n",
    "plt.xlabel(wybaneLabel[0])\n",
    "plt.ylabel(wybaneLabel[1])\n",
    "plt.plot(daneNiegrozne[wybaneLabel[0]],daneNiegrozne[wybaneLabel[1]],\"r.\")\n"
   ]
  },
  {
   "cell_type": "code",
   "execution_count": 13,
   "id": "dfb145ce",
   "metadata": {},
   "outputs": [
    {
     "name": "stdout",
     "output_type": "stream",
     "text": [
      "Korelacja Clump thickness i uniformity of cell size dla Złośliwych\n"
     ]
    },
    {
     "data": {
      "text/plain": [
       "[<matplotlib.lines.Line2D at 0x1e8f9780b50>]"
      ]
     },
     "execution_count": 13,
     "metadata": {},
     "output_type": "execute_result"
    },
    {
     "data": {
      "image/png": "[encoded data removed]",
      "text/plain": [
       "<Figure size 432x288 with 1 Axes>"
      ]
     },
     "metadata": {
      "needs_background": "light"
     },
     "output_type": "display_data"
    }
   ],
   "source": [
    "\n",
    "print(\"Korelacja \" +str(wybaneLabel[0])+ \" i \"+str(wybaneLabel[1]) + \" dla Złośliwych\")\n",
    "\n",
    "plt.title(\"Korelacja Złośliwych\")\n",
    "plt.xlabel(wybaneLabel[0])\n",
    "plt.ylabel(wybaneLabel[1])\n",
    "plt.plot(daneZlosliwe[wybaneLabel[0]],daneZlosliwe[wybaneLabel[1]],\"r.\")"
   ]
  },
  {
   "cell_type": "code",
   "execution_count": null,
   "id": "fa82f921",
   "metadata": {},
   "outputs": [],
   "source": []
  }
 ],
 "metadata": {
  "kernelspec": {
   "display_name": "Python 3",
   "language": "python",
   "name": "python3"
  },
  "language_info": {
   "codemirror_mode": {
    "name": "ipython",
    "version": 3
   },
   "file_extension": ".py",
   "mimetype": "text/x-python",
   "name": "python",
   "nbconvert_exporter": "python",
   "pygments_lexer": "ipython3",
   "version": "3.8.8"
  }
 },
 "nbformat": 4,
 "nbformat_minor": 5
}
